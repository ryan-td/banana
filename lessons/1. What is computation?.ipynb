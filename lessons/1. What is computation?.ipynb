{
 "cells": [
  {
   "cell_type": "markdown",
   "metadata": {},
   "source": [
    "# Agenda\n",
    " 1. what is computation\n",
    " 2. python basics\n",
    " 3. mathematical operations\n",
    " 4. python variables and types"
   ]
  },
  {
   "cell_type": "markdown",
   "metadata": {},
   "source": [
    "# WHAT DOES A COMPUTER DO?\n",
    "\n",
    "Fundamentally:\n",
    " + performs calculations (a billion calculations per second!)\n",
    " + remembers results (gigabytes of storage!)\n",
    " \n",
    "What kinds of calculations?\n",
    " + built-in to the language\n",
    " + ones that you define as the programmer\n",
    "\n",
    "Computers only know what you tell them"
   ]
  },
  {
   "cell_type": "code",
   "execution_count": 2,
   "metadata": {},
   "outputs": [
    {
     "name": "stdout",
     "output_type": "stream",
     "text": [
      "16.1 ns ± 0.687 ns per loop (mean ± std. dev. of 7 runs, 100000000 loops each)\n"
     ]
    }
   ],
   "source": [
    "%%timeit\n",
    "a = 1 + 1"
   ]
  },
  {
   "cell_type": "markdown",
   "metadata": {},
   "source": [
    "# TYPES OF KNOWLEDGE\n",
    "\n",
    " + **declarative knowledge** is statements of fact: 1 + 2 = 3\n",
    " + **imperative knowledge** is a recipe or “how-to”\n",
    " "
   ]
  },
  {
   "cell_type": "markdown",
   "metadata": {},
   "source": [
    "Recipe for deducing square root of a number `x`:\n",
    "\n",
    " 1. Start with a guess, `g`\n",
    " \n",
    " 2. Find the difference between `g*g` and `x`\n",
    " \n",
    " 3. If `g*g` is close enough to `x`, stop and say `g` is the answer\n",
    " \n",
    " 4. Otherwise make a new guess by averaging `g` and `x/g`\n",
    " \n",
    " 5. Using the new guess, repeat process until close enough"
   ]
  },
  {
   "cell_type": "code",
   "execution_count": 18,
   "metadata": {
    "scrolled": true
   },
   "outputs": [
    {
     "name": "stdout",
     "output_type": "stream",
     "text": [
      "starting guess: 3\n",
      "guess squared: 9\n",
      "target x: 16\n",
      "absolute difference: 7\n",
      "new guess: 4.166666666666666\n",
      "---\n",
      "starting guess: 4.166666666666666\n",
      "guess squared: 17.361111111111107\n",
      "target x: 16\n",
      "absolute difference: 1.3611111111111072\n",
      "new guess: 4.003333333333334\n",
      "---\n",
      "starting guess: 4.003333333333334\n",
      "guess squared: 16.02667777777778\n",
      "target x: 16\n",
      "absolute difference: 0.02667777777778113\n",
      "new guess: 4.000001387732445\n",
      "---\n",
      "starting guess: 4.000001387732445\n",
      "guess squared: 16.00001110186149\n",
      "target x: 16\n",
      "absolute difference: 1.110186148878256e-05\n"
     ]
    }
   ],
   "source": [
    "x = 16\n",
    "g = 3\n",
    "\n",
    "# this repeats\n",
    "while True:\n",
    "    \n",
    "    # Start with a guess, g\n",
    "    print(\"starting guess:\", g)\n",
    "    print(\"guess squared:\", g*g)\n",
    "    print(\"target x:\", x)\n",
    "    \n",
    "    # find the difference between g*g and x\n",
    "    error = abs(x - g*g)\n",
    "    print(\"absolute difference:\", error)\n",
    "    \n",
    "    # If g*g is close enough to x, stop and say g is the answer\n",
    "    if error < 0.01:\n",
    "        break\n",
    "    \n",
    "    # Otherwise make a new guess by averaging g and x/g\n",
    "    else:\n",
    "    \n",
    "        # make a new guess by averaging g and x/g\n",
    "        g = 0.5 * (g + (x/g))\n",
    "        print(\"new guess:\", g)\n",
    "    \n",
    "    print('---')\n"
   ]
  },
  {
   "cell_type": "markdown",
   "metadata": {},
   "source": [
    "# WHAT IS A RECIPE / ALGORITHM\n",
    "\n",
    "1. sequence of simple steps\n",
    "2. flow of control process that specifies when each step is executed\n",
    "3. a means of determining when to stop"
   ]
  },
  {
   "cell_type": "markdown",
   "metadata": {},
   "source": [
    "# CREATING RECIPES\n",
    " + a programming language provides a set of primitive operations\n",
    " + expressions are complex but legal combinations of primitives in a programming language\n",
    " + expressions and computations have **values** and meanings in a programming language"
   ]
  },
  {
   "cell_type": "code",
   "execution_count": 19,
   "metadata": {
    "collapsed": true
   },
   "outputs": [],
   "source": [
    "x = 5"
   ]
  },
  {
   "cell_type": "code",
   "execution_count": 20,
   "metadata": {},
   "outputs": [
    {
     "data": {
      "text/plain": [
       "5"
      ]
     },
     "execution_count": 20,
     "metadata": {},
     "output_type": "execute_result"
    }
   ],
   "source": [
    "x"
   ]
  },
  {
   "cell_type": "markdown",
   "metadata": {},
   "source": [
    "# ASPECTS OF LANGUAGES\n",
    "\n",
    "**primitive constructs**\n",
    "    + English: words\n",
    "    + programming language: numbers, strings, simple operators\n",
    "\n",
    "**syntax**\n",
    " + English: \n",
    "     + \"cat dog boy\" --> not syntactically valid\n",
    "     + \"cat hugs boy\" --> syntactically valid\n",
    " + programming language: \n",
    "     + \"hi\"5 --> not syntactically valid\n",
    "     + 3.2*5 --> syntactically valid"
   ]
  },
  {
   "cell_type": "markdown",
   "metadata": {},
   "source": [
    "# WHERE THINGS GO WRONG\n",
    "+ syntactic errors\n",
    "  + common and easily caught\n",
    "  + program does not run when there are syntactic errors\n",
    "+ static semantic errors\n",
    "  + some languages check for these before running program\n",
    "  + can cause unpredictable behavior\n",
    "+ no semantic errors but different meaning than what programmer intended\n",
    "  + program crashes, stops running\n",
    "  + program runs forever\n",
    "  + program gives an answer but different than expected"
   ]
  },
  {
   "cell_type": "code",
   "execution_count": 22,
   "metadata": {},
   "outputs": [
    {
     "ename": "SyntaxError",
     "evalue": "invalid syntax (<ipython-input-22-672123b650d7>, line 2)",
     "output_type": "error",
     "traceback": [
      "\u001b[0;36m  File \u001b[0;32m\"<ipython-input-22-672123b650d7>\"\u001b[0;36m, line \u001b[0;32m2\u001b[0m\n\u001b[0;31m    \"hi\"5\u001b[0m\n\u001b[0m        ^\u001b[0m\n\u001b[0;31mSyntaxError\u001b[0m\u001b[0;31m:\u001b[0m invalid syntax\n"
     ]
    }
   ],
   "source": [
    "# syntactic error\n",
    "\"hi\"5"
   ]
  },
  {
   "cell_type": "code",
   "execution_count": 23,
   "metadata": {},
   "outputs": [
    {
     "ename": "TypeError",
     "evalue": "must be str, not int",
     "output_type": "error",
     "traceback": [
      "\u001b[0;31m---------------------------------------------------------------------------\u001b[0m",
      "\u001b[0;31mTypeError\u001b[0m                                 Traceback (most recent call last)",
      "\u001b[0;32m<ipython-input-23-8b2120b4ee88>\u001b[0m in \u001b[0;36m<module>\u001b[0;34m()\u001b[0m\n\u001b[0;32m----> 1\u001b[0;31m \u001b[0;34m\"hi\"\u001b[0m \u001b[0;34m+\u001b[0m \u001b[0;36m5\u001b[0m\u001b[0;34m\u001b[0m\u001b[0m\n\u001b[0m",
      "\u001b[0;31mTypeError\u001b[0m: must be str, not int"
     ]
    }
   ],
   "source": [
    "# static semantic errors\n",
    "\"hi\" + 5"
   ]
  },
  {
   "cell_type": "markdown",
   "metadata": {},
   "source": [
    "# PYTHON PROGRAMS\n",
    "a **program** is a sequence of definitions and commands\n",
    " + definitions evaluated\n",
    " + commands executed by Python interpreter in a shell\n",
    "\n",
    "**commands** (statements) instruct interpreter to do something \n",
    " + can be typed directly in a shell or stored in a file that is read into the shell and evaluated"
   ]
  },
  {
   "cell_type": "markdown",
   "metadata": {},
   "source": [
    "# OBJECTS\n",
    " + programs manipulate **data objects**\n",
    " + objects have a **type** that defines the kinds of things programs can do to them\n",
    "    + Ana is a human so she can walk, speak English, etc.\n",
    "    + Chewbacca is a wookie so he can walk, “mwaaarhrhh”, etc.\n",
    " + objects are either\n",
    "    + scalar (cannot be subdivided)\n",
    "    + non-scalar (have internal structure that can be accessed)"
   ]
  },
  {
   "cell_type": "markdown",
   "metadata": {},
   "source": [
    "# SCALAR OBJECTS\n",
    " + `int` – represent integers, ex. `5`\n",
    " + `float` – represent real numbers, ex. `3.27`\n",
    " + `bool` – represent Boolean values `True` and `False`\n",
    " + `NoneType` – special and has one value, `None`\n",
    " + can use `type()` to see the type of an object"
   ]
  },
  {
   "cell_type": "code",
   "execution_count": 24,
   "metadata": {},
   "outputs": [
    {
     "data": {
      "text/plain": [
       "int"
      ]
     },
     "execution_count": 24,
     "metadata": {},
     "output_type": "execute_result"
    }
   ],
   "source": [
    "type(5)"
   ]
  },
  {
   "cell_type": "code",
   "execution_count": 25,
   "metadata": {},
   "outputs": [
    {
     "data": {
      "text/plain": [
       "float"
      ]
     },
     "execution_count": 25,
     "metadata": {},
     "output_type": "execute_result"
    }
   ],
   "source": [
    "type(3.14)"
   ]
  },
  {
   "cell_type": "code",
   "execution_count": 26,
   "metadata": {},
   "outputs": [
    {
     "data": {
      "text/plain": [
       "bool"
      ]
     },
     "execution_count": 26,
     "metadata": {},
     "output_type": "execute_result"
    }
   ],
   "source": [
    "type(True)"
   ]
  },
  {
   "cell_type": "code",
   "execution_count": 27,
   "metadata": {},
   "outputs": [
    {
     "data": {
      "text/plain": [
       "NoneType"
      ]
     },
     "execution_count": 27,
     "metadata": {},
     "output_type": "execute_result"
    }
   ],
   "source": [
    "type(None)"
   ]
  },
  {
   "cell_type": "markdown",
   "metadata": {},
   "source": [
    "# TYPE CONVERSIONS (CAST)\n",
    " + can convert object of one type to another\n",
    " + `float(3)` converts integer `3` to float `3.0`\n",
    " + `int(3.9)` truncates float `3.9` to integer `3`"
   ]
  },
  {
   "cell_type": "code",
   "execution_count": 28,
   "metadata": {},
   "outputs": [
    {
     "data": {
      "text/plain": [
       "3.0"
      ]
     },
     "execution_count": 28,
     "metadata": {},
     "output_type": "execute_result"
    }
   ],
   "source": [
    "float(3)"
   ]
  },
  {
   "cell_type": "code",
   "execution_count": 29,
   "metadata": {},
   "outputs": [
    {
     "data": {
      "text/plain": [
       "3"
      ]
     },
     "execution_count": 29,
     "metadata": {},
     "output_type": "execute_result"
    }
   ],
   "source": [
    "int(3.9)"
   ]
  },
  {
   "cell_type": "markdown",
   "metadata": {},
   "source": [
    "# PRINTING TO CONSOLE\n",
    "to show output from code to a user, use `print()` command"
   ]
  },
  {
   "cell_type": "code",
   "execution_count": 36,
   "metadata": {},
   "outputs": [
    {
     "name": "stdout",
     "output_type": "stream",
     "text": [
      "2\n",
      "3\n"
     ]
    }
   ],
   "source": [
    "x = 1+1\n",
    "print(x)\n",
    "y = x + 1\n",
    "print(y)"
   ]
  },
  {
   "cell_type": "markdown",
   "metadata": {},
   "source": [
    "# EXPRESSIONS\n",
    " + combine objects and operators to form expressions\n",
    " + an expression has a value, which has a type\n",
    " + syntax for a simple expression:\n",
    "`<object> <operator> <object>`"
   ]
  },
  {
   "cell_type": "markdown",
   "metadata": {},
   "source": [
    "# OPERATORS ON ints and floats\n",
    " + For power, product, difference, sum, mod: \n",
    "     + if both are ints, result is int\n",
    "     + if either or both are floats, result is float\n",
    " + Division will always result in a float"
   ]
  },
  {
   "cell_type": "code",
   "execution_count": 39,
   "metadata": {
    "collapsed": true
   },
   "outputs": [],
   "source": [
    "i = 4\n",
    "j = 5"
   ]
  },
  {
   "cell_type": "code",
   "execution_count": 40,
   "metadata": {},
   "outputs": [
    {
     "data": {
      "text/plain": [
       "9"
      ]
     },
     "execution_count": 40,
     "metadata": {},
     "output_type": "execute_result"
    }
   ],
   "source": [
    "# sum \n",
    "i + j "
   ]
  },
  {
   "cell_type": "code",
   "execution_count": 41,
   "metadata": {},
   "outputs": [
    {
     "data": {
      "text/plain": [
       "-1"
      ]
     },
     "execution_count": 41,
     "metadata": {},
     "output_type": "execute_result"
    }
   ],
   "source": [
    "# difference \n",
    "i - j"
   ]
  },
  {
   "cell_type": "code",
   "execution_count": 42,
   "metadata": {},
   "outputs": [
    {
     "data": {
      "text/plain": [
       "20"
      ]
     },
     "execution_count": 42,
     "metadata": {},
     "output_type": "execute_result"
    }
   ],
   "source": [
    "# product\n",
    "i * j"
   ]
  },
  {
   "cell_type": "code",
   "execution_count": 43,
   "metadata": {},
   "outputs": [
    {
     "data": {
      "text/plain": [
       "0.8"
      ]
     },
     "execution_count": 43,
     "metadata": {},
     "output_type": "execute_result"
    }
   ],
   "source": [
    "# division\n",
    "i / j"
   ]
  },
  {
   "cell_type": "code",
   "execution_count": 51,
   "metadata": {},
   "outputs": [
    {
     "data": {
      "text/plain": [
       "1024"
      ]
     },
     "execution_count": 51,
     "metadata": {},
     "output_type": "execute_result"
    }
   ],
   "source": [
    "# power\n",
    "i**j"
   ]
  },
  {
   "cell_type": "code",
   "execution_count": 50,
   "metadata": {},
   "outputs": [
    {
     "data": {
      "text/plain": [
       "1.0"
      ]
     },
     "execution_count": 50,
     "metadata": {},
     "output_type": "execute_result"
    }
   ],
   "source": [
    "# the remainder (called mod)\n",
    "j % i*1.0"
   ]
  },
  {
   "cell_type": "markdown",
   "metadata": {},
   "source": [
    "# BINDING VARIABLES AND VALUES\n",
    " + equal sign is an assignment of a value to a variable name\n",
    " + value stored in computer memory\n",
    " + an assignment binds name to value\n",
    " + retrieve value associated with name or variable by invoking the name"
   ]
  },
  {
   "cell_type": "code",
   "execution_count": 52,
   "metadata": {
    "collapsed": true
   },
   "outputs": [],
   "source": [
    "pi = 3.1415"
   ]
  },
  {
   "cell_type": "code",
   "execution_count": 53,
   "metadata": {},
   "outputs": [
    {
     "name": "stdout",
     "output_type": "stream",
     "text": [
      "3.1415\n"
     ]
    }
   ],
   "source": [
    "print(pi)"
   ]
  },
  {
   "cell_type": "markdown",
   "metadata": {},
   "source": [
    "# ABSTRACTING EXPRESSIONS\n",
    " + why give names to values of expressions?\n",
    " + to reuse names instead of values\n",
    " + easier to change code later"
   ]
  },
  {
   "cell_type": "code",
   "execution_count": 55,
   "metadata": {},
   "outputs": [
    {
     "name": "stdout",
     "output_type": "stream",
     "text": [
      "15.205295600000001\n"
     ]
    }
   ],
   "source": [
    "pi = 3.14159\n",
    "radius = 2.2\n",
    "area = pi*(radius**2)\n",
    "print(area)"
   ]
  },
  {
   "cell_type": "markdown",
   "metadata": {},
   "source": [
    "# CHANGING BINDINGS\n",
    " + can re-bind variable names using new assignment statements\n",
    " + value for variable does not change until you tell the computer to do the calculation again"
   ]
  },
  {
   "cell_type": "code",
   "execution_count": 59,
   "metadata": {},
   "outputs": [
    {
     "name": "stdout",
     "output_type": "stream",
     "text": [
      "15.205295600000001\n",
      "15.205295600000001\n",
      "28.27431\n"
     ]
    }
   ],
   "source": [
    "pi = 3.14159\n",
    "radius = 2.2\n",
    "area = pi*(radius**2)\n",
    "print(area)\n",
    "\n",
    "radius = 3.0\n",
    "print(area) # this is the previous area!\n",
    "\n",
    "# tell the computer to do the calculation again\n",
    "area = pi*(radius**2)\n",
    "print(area)"
   ]
  },
  {
   "cell_type": "markdown",
   "metadata": {},
   "source": [
    "# STRINGS\n",
    " + letters, special characters, spaces, digits\n",
    " + enclose in quotation marks or single quotes"
   ]
  },
  {
   "cell_type": "code",
   "execution_count": 63,
   "metadata": {},
   "outputs": [
    {
     "name": "stdout",
     "output_type": "stream",
     "text": [
      "hello there\n"
     ]
    }
   ],
   "source": [
    "hi = \"hello there\"\n",
    "print(hi)"
   ]
  },
  {
   "cell_type": "code",
   "execution_count": 67,
   "metadata": {},
   "outputs": [
    {
     "name": "stdout",
     "output_type": "stream",
     "text": [
      "hello \"michelle\" number 5\n"
     ]
    }
   ],
   "source": [
    "hi2 = 'hello \"michelle\" number 5'\n",
    "print(hi2)"
   ]
  },
  {
   "cell_type": "markdown",
   "metadata": {},
   "source": [
    " + concatenate strings"
   ]
  },
  {
   "cell_type": "code",
   "execution_count": 74,
   "metadata": {},
   "outputs": [
    {
     "name": "stdout",
     "output_type": "stream",
     "text": [
      "hello theremichelle\n",
      "hello there michelle\n"
     ]
    }
   ],
   "source": [
    "name = \"michelle\"\n",
    "greet = hi + name\n",
    "print(greet)\n",
    "\n",
    "greeting = hi + \" \" + name\n",
    "print(greeting)"
   ]
  },
  {
   "cell_type": "code",
   "execution_count": null,
   "metadata": {
    "collapsed": true
   },
   "outputs": [],
   "source": []
  }
 ],
 "metadata": {
  "kernelspec": {
   "display_name": "Python 3",
   "language": "python",
   "name": "python3"
  },
  "language_info": {
   "codemirror_mode": {
    "name": "ipython",
    "version": 3
   },
   "file_extension": ".py",
   "mimetype": "text/x-python",
   "name": "python",
   "nbconvert_exporter": "python",
   "pygments_lexer": "ipython3",
   "version": "3.6.0"
  }
 },
 "nbformat": 4,
 "nbformat_minor": 2
}
