{
 "cells": [
  {
   "cell_type": "markdown",
   "metadata": {},
   "source": [
    "# 1. Operators and types\n",
    "\n",
    "Recall that expressions involving operators have the following syntax: `<object> <operator> <object>`"
   ]
  },
  {
   "cell_type": "code",
   "execution_count": 7,
   "metadata": {},
   "outputs": [
    {
     "data": {
      "text/plain": [
       "3"
      ]
     },
     "execution_count": 7,
     "metadata": {},
     "output_type": "execute_result"
    }
   ],
   "source": [
    "1 + 2"
   ]
  },
  {
   "cell_type": "markdown",
   "metadata": {},
   "source": [
    "For the six operators, print the the result **and its type** when the two objects are:\n",
    " + both `int`\n",
    " + both `floats`\n",
    " + one is `float`, one is `int`\n",
    "\n",
    "The six operators are: `+, -, *, /, **, %`"
   ]
  },
  {
   "cell_type": "code",
   "execution_count": null,
   "metadata": {
    "collapsed": true
   },
   "outputs": [],
   "source": []
  },
  {
   "cell_type": "markdown",
   "metadata": {},
   "source": [
    "# 2. Quadratic Formula\n",
    "\n",
    "The quadratic formula is:\n",
    "\n",
    "$x=\\frac{-b\\pm\\sqrt{b^2-4ac}}{2a}$\n",
    "\n",
    "where $x$ are the roots of the quadratic equation $ax^2 + bx + c =0$. ($x$ is the solution to that equation)\n",
    "\n",
    "(Note that there are two values of $x$ depending on the plus or the minus.)\n",
    "\n",
    "Choose arbitrary values of `a`, `b`, and `c`. \n",
    "Write an expression for the two values of `x` from the quadratic equation. Call them `x_1` and `x_2`"
   ]
  },
  {
   "cell_type": "code",
   "execution_count": 9,
   "metadata": {
    "collapsed": true
   },
   "outputs": [],
   "source": []
  },
  {
   "cell_type": "markdown",
   "metadata": {},
   "source": [
    "What are the roots of the equation $3x^2+4x-1=0$?"
   ]
  },
  {
   "cell_type": "code",
   "execution_count": null,
   "metadata": {},
   "outputs": [],
   "source": []
  },
  {
   "cell_type": "markdown",
   "metadata": {},
   "source": [
    "Use `a`, `b`, `c`, `x_1` and `x_2` to verify that the expression $3x^2+4x-1$ evaluates to $0$."
   ]
  },
  {
   "cell_type": "code",
   "execution_count": null,
   "metadata": {
    "collapsed": true
   },
   "outputs": [],
   "source": []
  }
 ],
 "metadata": {
  "kernelspec": {
   "display_name": "Python 3",
   "language": "python",
   "name": "python3"
  },
  "language_info": {
   "codemirror_mode": {
    "name": "ipython",
    "version": 3
   },
   "file_extension": ".py",
   "mimetype": "text/x-python",
   "name": "python",
   "nbconvert_exporter": "python",
   "pygments_lexer": "ipython3",
   "version": "3.6.0"
  }
 },
 "nbformat": 4,
 "nbformat_minor": 2
}
