{
 "cells": [
  {
   "cell_type": "markdown",
   "metadata": {},
   "source": [
    "# 1. Substrings\n",
    "Take a user input and print the second word in the sentence using the following algorithm:\n",
    "\n",
    " + check that there are more than 3 spaces in the sentence. If not, ask the user for a different word. \n",
    " + find the index of the first space\n",
    " + find the index of the second space\n",
    " + print the substring that is the second word. \n",
    " \n",
    "For example, if the user inputs `\"hello my name is Ryan\"`, then it should print `\"my\"`"
   ]
  },
  {
   "cell_type": "code",
   "execution_count": null,
   "metadata": {
    "collapsed": true
   },
   "outputs": [],
   "source": []
  },
  {
   "cell_type": "markdown",
   "metadata": {},
   "source": [
    "# 2. FooBar\n",
    "Take an input integer `n` and print all the numbers from `1` up to `n`.\n",
    "\n",
    "If the number is divisible by `3` then print `\"Foo\"`, if the number is divisible by `5` then print `\"Bar\"` and if the number is divisible by both `3` and `5`, print `\"FooBar\"`. Otherwise, just print the number.\n",
    "\n",
    "For example, if the user imputs `15`, it should print as follows: \n",
    "```\n",
    "1 \n",
    "2 \n",
    "Foo \n",
    "4 \n",
    "Bar \n",
    "Foo \n",
    "7 \n",
    "8 \n",
    "Foo \n",
    "Bar \n",
    "11 \n",
    "Foo \n",
    "13 \n",
    "14 \n",
    "FooBar \n",
    "```\n",
    "\n",
    "\n"
   ]
  },
  {
   "cell_type": "code",
   "execution_count": null,
   "metadata": {
    "collapsed": true
   },
   "outputs": [],
   "source": []
  }
 ],
 "metadata": {
  "kernelspec": {
   "display_name": "Python 3",
   "language": "python",
   "name": "python3"
  },
  "language_info": {
   "codemirror_mode": {
    "name": "ipython",
    "version": 3
   },
   "file_extension": ".py",
   "mimetype": "text/x-python",
   "name": "python",
   "nbconvert_exporter": "python",
   "pygments_lexer": "ipython3",
   "version": "3.6.0"
  }
 },
 "nbformat": 4,
 "nbformat_minor": 2
}
